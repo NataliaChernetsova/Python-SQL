{
 "cells": [
  {
   "cell_type": "markdown",
   "metadata": {},
   "source": [
    "# Задание 1\n",
    "Дана переменная, в которой хранится слово из латинских букв. Напишите код, который выводит на экран:\n",
    "\n",
    "среднюю букву, если число букв в слове нечетное;\n",
    "две средних буквы, если число букв четное.\n"
   ]
  },
  {
   "cell_type": "code",
   "execution_count": 2,
   "metadata": {},
   "outputs": [
    {
     "name": "stdout",
     "output_type": "stream",
     "text": [
      "Введите слово: питоны\n",
      "т о\n"
     ]
    }
   ],
   "source": [
    "word = input(\"Введите слово: \")\n",
    "le = len(word)\n",
    "w1 = int(le / 2)\n",
    "w2 = int(w1 - 1)\n",
    "if le % 2 == 0:\n",
    "    print(word[w2], word[w1])\n",
    "elif le % 2 != 0:\n",
    "    print(word[w1])    "
   ]
  },
  {
   "cell_type": "markdown",
   "metadata": {},
   "source": [
    "# Задание 2\n",
    "Напишите программу, которая последовательно запрашивает у пользователя числа (по одному за раз) и после первого нуля выводит сумму всех ранее введенных чисел."
   ]
  },
  {
   "cell_type": "code",
   "execution_count": 3,
   "metadata": {},
   "outputs": [
    {
     "name": "stdout",
     "output_type": "stream",
     "text": [
      "Введите число 5\n",
      "Введите число 6\n",
      "Введите число 4\n",
      "Введите число 0\n",
      "Результат 15\n"
     ]
    }
   ],
   "source": [
    "sum_us = 0\n",
    "while True:\n",
    "    user_input = int(input('Введите число '))\n",
    "    if user_input != 0:\n",
    "        sum_us += user_input\n",
    "    elif user_input == 0:\n",
    "        break\n",
    "print((\"Результат\"), (sum_us))"
   ]
  },
  {
   "cell_type": "markdown",
   "metadata": {},
   "source": [
    "# Задание 3\n",
    "Мы делаем MVP dating-сервиса, и у нас есть список парней и девушек.\n",
    "Выдвигаем гипотезу: лучшие рекомендации мы получим, если просто отсортируем имена по алфавиту и познакомим людей с одинаковыми индексами после сортировки! Но мы не будем никого знакомить, если кто-то может остаться без пары"
   ]
  },
  {
   "cell_type": "code",
   "execution_count": 27,
   "metadata": {},
   "outputs": [
    {
     "name": "stdout",
     "output_type": "stream",
     "text": [
      "Идеальные пары: \n",
      "Alex и Emma\n",
      "Arthur и Kate\n",
      "John и Kira\n",
      "Peter и Liza\n",
      "Petr и Trisha\n",
      "Внимание, кто-то может остаться без пары!\n"
     ]
    }
   ],
   "source": [
    "boys = ('Peter', 'Alex', 'John', 'Arthur', 'Richard', 'Petr') \n",
    "girls = ('Kate', 'Liza', 'Kira', 'Emma', 'Trisha')\n",
    "boys = sorted(boys)\n",
    "girls = sorted(girls)\n",
    "para = zip(boys, girls)\n",
    "para = list(para)\n",
    "print('Идеальные пары: ')\n",
    "for element in para:\n",
    "    print(element[0], 'и', element[1])\n",
    "else:\n",
    "    if len(boys) > len(girls):\n",
    "        print(\"Внимание, кто-то может остаться без пары!\")"
   ]
  },
  {
   "cell_type": "markdown",
   "metadata": {},
   "source": [
    "# Задача 4\n",
    "У нас есть список, содержащий информацию о среднедневной температуре в Фаренгейтах за произвольный период по странам (структура данных в примере). Необходимо написать код, который рассчитает среднюю температуру за период в Цельсиях(!) для каждой страны."
   ]
  },
  {
   "cell_type": "code",
   "execution_count": 1,
   "metadata": {},
   "outputs": [],
   "source": [
    "countries_temperature = [\n",
    "    ['Thailand', [75.2, 77, 78.8, 73.4, 68, 75.2, 77]],\n",
    "    ['Germany', [57.2, 55.4, 59, 59, 53.6]],\n",
    "    ['Russia', [35.6, 37.4, 39.2, 41, 42.8, 39.2, 35.6]],\n",
    "    ['Poland', [50, 50, 53.6, 57.2, 55.4, 55.4]]\n",
    "]"
   ]
  },
  {
   "cell_type": "code",
   "execution_count": 22,
   "metadata": {},
   "outputs": [
    {
     "name": "stdout",
     "output_type": "stream",
     "text": [
      "Средняя температура в Thailand - 23.9 C\n",
      "Средняя температура в Germany - 13.8 C\n",
      "Средняя температура в Russia - 3.7 C\n",
      "Средняя температура в Poland - 12.0 C\n"
     ]
    }
   ],
   "source": [
    "for element in countries_temperature:\n",
    "    avg_temp = round(((sum(element[1]) / len(element[1]) - 32)*5)/9, 1)\n",
    "    print(f\"Средняя температура в {element[0]} - {avg_temp} C\")"
   ]
  },
  {
   "cell_type": "code",
   "execution_count": null,
   "metadata": {},
   "outputs": [],
   "source": []
  }
 ],
 "metadata": {
  "kernelspec": {
   "display_name": "Python 3",
   "language": "python",
   "name": "python3"
  },
  "language_info": {
   "codemirror_mode": {
    "name": "ipython",
    "version": 3
   },
   "file_extension": ".py",
   "mimetype": "text/x-python",
   "name": "python",
   "nbconvert_exporter": "python",
   "pygments_lexer": "ipython3",
   "version": "3.8.3"
  }
 },
 "nbformat": 4,
 "nbformat_minor": 4
}
